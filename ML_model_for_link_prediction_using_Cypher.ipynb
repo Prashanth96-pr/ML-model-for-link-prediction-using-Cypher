{
  "cells": [
    {
      "cell_type": "markdown",
      "metadata": {
        "id": "view-in-github",
        "colab_type": "text"
      },
      "source": [
        "<a href=\"https://colab.research.google.com/github/Prashanth96-pr/ML-model-for-link-prediction-using-Cypher/blob/main/ML_model_for_link_prediction_using_Cypher.ipynb\" target=\"_parent\"><img src=\"https://colab.research.google.com/assets/colab-badge.svg\" alt=\"Open In Colab\"/></a>"
      ]
    },
    {
      "cell_type": "code",
      "execution_count": null,
      "metadata": {
        "pycharm": {},
        "id": "3izkHv-i3WGh"
      },
      "outputs": [],
      "source": [
        "!pip install py2neo pandas matplotlib sklearn\n",
        "from collections import Counter\n",
        "from sklearn.ensemble import RandomForestClassifier\n",
        "\n",
        "from sklearn.metrics import recall_score\n",
        "from sklearn.metrics import precision_score\n",
        "from sklearn.metrics import accuracy_score"
      ]
    },
    {
      "cell_type": "code",
      "execution_count": null,
      "metadata": {
        "pycharm": {},
        "id": "RKbzSooZ3WGm"
      },
      "outputs": [],
      "source": [
        "from py2neo import Graph"
      ]
    },
    {
      "cell_type": "code",
      "execution_count": null,
      "metadata": {
        "pycharm": {},
        "id": "McHAHg9W3WGq"
      },
      "outputs": [],
      "source": [
        "# Change the line of code below to use the Bolt URL,  and Password of your Neo4j database instance.\n",
        "# graph = Graph(\"<Bolt URL>\", auth=(\"neo4j\", \"<Password>\")) \n",
        " \n",
        "graph = Graph(\"bolt://44.200.229.123:7687\", auth=(\"neo4j\", \"crown-dispatcher-piston\"))"
      ]
    },
    {
      "cell_type": "code",
      "source": [
        ""
      ],
      "metadata": {
        "id": "Ehgd-lAM5tud"
      },
      "execution_count": null,
      "outputs": []
    },
    {
      "cell_type": "code",
      "execution_count": null,
      "metadata": {
        "pycharm": {},
        "id": "lxpdDaYy3WGz"
      },
      "outputs": [],
      "source": [
        "from py2neo import Graph\n",
        "import pandas as pd\n",
        "\n",
        "import matplotlib \n",
        "import matplotlib.pyplot as plt\n",
        "\n",
        "plt.style.use('fivethirtyeight')\n",
        "pd.set_option('display.float_format', lambda x: '%.3f' % x)\n",
        "pd.set_option('display.max_colwidth', 100)"
      ]
    },
    {
      "cell_type": "code",
      "source": [
        "\n",
        "graph.run(\"CALL db.schema.visualization()\").data()"
      ],
      "metadata": {
        "id": "j-yx6aht5v0a"
      },
      "execution_count": null,
      "outputs": []
    },
    {
      "cell_type": "code",
      "source": [
        "#How many nodes do we have for each of these labels?\n",
        "result = {\"label\": [], \"count\": []}\n",
        "for label in graph.run(\"CALL db.labels()\").to_series():\n",
        "    query = f\"MATCH (:`{label}`) RETURN count(*) AS count\"\n",
        "    count = graph.run(query).to_data_frame().iloc[0]['count']\n",
        "    result[\"label\"].append(label)\n",
        "    result[\"count\"].append(count)\n",
        "nodes_df = pd.DataFrame(data=result)\n",
        "nodes_df.sort_values(\"count\")"
      ],
      "metadata": {
        "id": "D_YUHlhZ87uk"
      },
      "execution_count": null,
      "outputs": []
    },
    {
      "cell_type": "code",
      "source": [
        "#visualize the counts using matplotlib\n",
        "nodes_df.plot(kind='bar', x='label', y='count', legend=None, title=\"Node Cardinalities\")\n",
        "plt.yscale(\"log\")\n",
        "plt.xticks(rotation=45)\n",
        "plt.tight_layout()\n",
        "plt.show()"
      ],
      "metadata": {
        "id": "H00NOrtt9RAL"
      },
      "execution_count": null,
      "outputs": []
    },
    {
      "cell_type": "code",
      "source": [
        "#types of relationships do we have in our graph\n",
        "result = {\"relType\": [], \"count\": []}\n",
        "for relationship_type in graph.run(\"CALL db.relationshipTypes()\").to_series():\n",
        "    query = f\"MATCH ()-[:`{relationship_type}`]->() RETURN count(*) AS count\"\n",
        "    count = graph.run(query).to_data_frame().iloc[0]['count']\n",
        "    result[\"relType\"].append(relationship_type)\n",
        "    result[\"count\"].append(count)\n",
        "rels_df = pd.DataFrame(data=result)\n",
        "rels_df.sort_values(\"count\")"
      ],
      "metadata": {
        "id": "Gj87jt699VRT"
      },
      "execution_count": null,
      "outputs": []
    },
    {
      "cell_type": "code",
      "source": [
        "# visualize the counts using matplotlib\n",
        "rels_df.plot(kind='bar', x='relType', y='count', legend=None, title=\"Relationship Cardinalities\")\n",
        "plt.xticks(rotation=45)\n",
        "plt.tight_layout()\n",
        "plt.show()"
      ],
      "metadata": {
        "id": "fswuiwzm_nCi"
      },
      "execution_count": null,
      "outputs": []
    },
    {
      "cell_type": "code",
      "source": [
        "#query finds 25 authors, articles, venues, and also shows the number of articles that article has cited, as well as the number of articles that it's been cited by\n",
        "exploratory_query = \"\"\"\n",
        "MATCH (author:Author)<-[:AUTHOR]-(article:Article)-[:VENUE]->(venue)\n",
        "RETURN article.title AS article, author.name AS author, venue.name AS venue, \n",
        "       size((article)-[:CITED]->()) AS citationsGiven, size((article)<-[:CITED]-()) AS citationsReceived\n",
        "ORDER BY rand()\n",
        "LIMIT 25\n",
        "\"\"\"\n",
        "\n",
        "graph.run(exploratory_query).to_data_frame()"
      ],
      "metadata": {
        "id": "eI0So2sN9hra"
      },
      "execution_count": null,
      "outputs": []
    },
    {
      "cell_type": "code",
      "source": [
        "#distribution of the number of articles published by authors\n",
        "query = \"\"\"\n",
        "MATCH (a:Author)\n",
        "RETURN size((a)<-[:AUTHOR]-()) AS published\n",
        "\"\"\"\n",
        "\n",
        "published_df = graph.run(query).to_data_frame()\n",
        "published_df.describe([.25, .5, .75, .9, .99])"
      ],
      "metadata": {
        "id": "PSAncTDf__iY"
      },
      "execution_count": null,
      "outputs": []
    },
    {
      "cell_type": "markdown",
      "source": [
        "making collaborator suggestions"
      ],
      "metadata": {
        "id": "BZwUt3zWDYNJ"
      }
    },
    {
      "cell_type": "code",
      "source": [
        "#find authors who have written the most articles so that you have some data to work with.\n",
        "\n",
        "popular_authors_query = \"\"\"\n",
        "MATCH (author:Author)\n",
        "RETURN author.name, size((author)<-[:AUTHOR]-()) AS articlesPublished\n",
        "ORDER BY articlesPublished DESC\n",
        "LIMIT 10\n",
        "\"\"\"\n",
        "\n",
        "graph.run(popular_authors_query).to_data_frame()"
      ],
      "metadata": {
        "id": "3eaN4o-vDEIp"
      },
      "execution_count": null,
      "outputs": []
    },
    {
      "cell_type": "code",
      "source": [
        "author_name = \"Peter G. Neumann\""
      ],
      "metadata": {
        "id": "dtof8zUaDEvh"
      },
      "execution_count": null,
      "outputs": []
    },
    {
      "cell_type": "code",
      "source": [
        "#Retrieve the articles they've published and how many citations they've received:\n",
        "author_articles_query = \"\"\"\n",
        "MATCH (:Author {name: $authorName})<-[:AUTHOR]-(article)\n",
        "RETURN article.title AS article, article.year AS year, size((article)<-[:CITED]-()) AS citations\n",
        "ORDER BY citations DESC\n",
        "LIMIT 20\n",
        "\"\"\"\n",
        "\n",
        "graph.run(author_articles_query,  {\"authorName\": author_name}).to_data_frame()"
      ],
      "metadata": {
        "id": "qDp3Kbe0Dook"
      },
      "execution_count": null,
      "outputs": []
    },
    {
      "cell_type": "code",
      "source": [
        "#Find the author's collaborators:\n",
        "\n",
        "collaborations_query = \"\"\"\n",
        "MATCH (:Author {name: $authorName})<-[:AUTHOR]-(article)-[:AUTHOR]->(coauthor)\n",
        "RETURN coauthor.name AS coauthor, count(*) AS collaborations\n",
        "ORDER BY collaborations DESC\n",
        "LIMIT 10\n",
        "\"\"\"\n",
        "\n",
        "graph.run(collaborations_query,  {\"authorName\": author_name}).to_data_frame()"
      ],
      "metadata": {
        "id": "qo3ihytEDsyw"
      },
      "execution_count": null,
      "outputs": []
    },
    {
      "cell_type": "code",
      "source": [
        "#How would you suggest some future collaborators for this author? One way is by looking at the collaborators of their collaborators!\n",
        "collaborations_query = \"\"\"\n",
        "MATCH (author:Author {name: $authorName})<-[:AUTHOR]-(article)-[:AUTHOR]->(coauthor),\n",
        "      (coauthor)<-[:AUTHOR]-()-[:AUTHOR]->(coc)\n",
        "WHERE not((coc)<-[:AUTHOR]-()-[:AUTHOR]->(author)) AND coc <> author      \n",
        "RETURN coc.name AS coauthor, count(*) AS collaborations\n",
        "ORDER BY collaborations DESC\n",
        "LIMIT 10\n",
        "\"\"\"\n",
        "\n",
        "graph.run(collaborations_query,  {\"authorName\": author_name}).to_data_frame()"
      ],
      "metadata": {
        "id": "tS1IanoNF8IL"
      },
      "execution_count": null,
      "outputs": []
    },
    {
      "cell_type": "code",
      "source": [
        "#PageRank code over the whole graph to find out the most influential article in terms of citations\n",
        "\n",
        "query = \"\"\"\n",
        "CALL gds.pageRank.write({\n",
        "  nodeProjection:'Article', \n",
        "  relationshipProjection:'CITED',\n",
        "  writeProperty:'pagerank'})\n",
        "\"\"\"\n",
        "graph.run(query).data()"
      ],
      "metadata": {
        "id": "VA6F6IkEVPbu"
      },
      "execution_count": null,
      "outputs": []
    },
    {
      "cell_type": "code",
      "source": [
        "#This query stores a 'pagerank' property on each node. Execute this code to view the most influential articles:\n",
        "\n",
        "query = \"\"\"\n",
        "MATCH (a:Article)\n",
        "RETURN a.title as article,\n",
        "       a.pagerank as score\n",
        "ORDER BY score DESC \n",
        "LIMIT 10\n",
        "\"\"\"\n",
        "graph.run(query).to_data_frame()"
      ],
      "metadata": {
        "colab": {
          "base_uri": "https://localhost:8080/",
          "height": 363
        },
        "id": "Att6AOuuWKvY",
        "outputId": "276c10b4-d357-44e5-9cfa-c543c25e5cba"
      },
      "execution_count": null,
      "outputs": [
        {
          "output_type": "execute_result",
          "data": {
            "text/html": [
              "<div>\n",
              "<style scoped>\n",
              "    .dataframe tbody tr th:only-of-type {\n",
              "        vertical-align: middle;\n",
              "    }\n",
              "\n",
              "    .dataframe tbody tr th {\n",
              "        vertical-align: top;\n",
              "    }\n",
              "\n",
              "    .dataframe thead th {\n",
              "        text-align: right;\n",
              "    }\n",
              "</style>\n",
              "<table border=\"1\" class=\"dataframe\">\n",
              "  <thead>\n",
              "    <tr style=\"text-align: right;\">\n",
              "      <th></th>\n",
              "      <th>article</th>\n",
              "      <th>score</th>\n",
              "    </tr>\n",
              "  </thead>\n",
              "  <tbody>\n",
              "    <tr>\n",
              "      <th>0</th>\n",
              "      <td>A method for obtaining digital signatures and public-key cryptosystems</td>\n",
              "      <td>93.211</td>\n",
              "    </tr>\n",
              "    <tr>\n",
              "      <th>1</th>\n",
              "      <td>Secure communications over insecure channels</td>\n",
              "      <td>79.082</td>\n",
              "    </tr>\n",
              "    <tr>\n",
              "      <th>2</th>\n",
              "      <td>Rough sets</td>\n",
              "      <td>25.609</td>\n",
              "    </tr>\n",
              "    <tr>\n",
              "      <th>3</th>\n",
              "      <td>An axiomatic basis for computer programming</td>\n",
              "      <td>23.028</td>\n",
              "    </tr>\n",
              "    <tr>\n",
              "      <th>4</th>\n",
              "      <td>Pastry: Scalable, Decentralized Object Location, and Routing for Large-Scale Peer-to-Peer Systems</td>\n",
              "      <td>21.469</td>\n",
              "    </tr>\n",
              "    <tr>\n",
              "      <th>5</th>\n",
              "      <td>SCRIBE: The Design of a Large-Scale Event Notification Infrastructure</td>\n",
              "      <td>19.485</td>\n",
              "    </tr>\n",
              "    <tr>\n",
              "      <th>6</th>\n",
              "      <td>A field study of the software design process for large systems</td>\n",
              "      <td>19.028</td>\n",
              "    </tr>\n",
              "    <tr>\n",
              "      <th>7</th>\n",
              "      <td>Productivity factors and programming environments</td>\n",
              "      <td>18.499</td>\n",
              "    </tr>\n",
              "    <tr>\n",
              "      <th>8</th>\n",
              "      <td>Analyzing medium-scale software development</td>\n",
              "      <td>16.453</td>\n",
              "    </tr>\n",
              "    <tr>\n",
              "      <th>9</th>\n",
              "      <td>A Calculus of Communicating Systems</td>\n",
              "      <td>15.431</td>\n",
              "    </tr>\n",
              "  </tbody>\n",
              "</table>\n",
              "</div>"
            ],
            "text/plain": [
              "                                                                                             article  score\n",
              "0                             A method for obtaining digital signatures and public-key cryptosystems 93.211\n",
              "1                                                       Secure communications over insecure channels 79.082\n",
              "2                                                                                         Rough sets 25.609\n",
              "3                                                        An axiomatic basis for computer programming 23.028\n",
              "4  Pastry: Scalable, Decentralized Object Location, and Routing for Large-Scale Peer-to-Peer Systems 21.469\n",
              "5                              SCRIBE: The Design of a Large-Scale Event Notification Infrastructure 19.485\n",
              "6                                     A field study of the software design process for large systems 19.028\n",
              "7                                                  Productivity factors and programming environments 18.499\n",
              "8                                                        Analyzing medium-scale software development 16.453\n",
              "9                                                                A Calculus of Communicating Systems 15.431"
            ]
          },
          "metadata": {},
          "execution_count": 20
        }
      ]
    },
    {
      "cell_type": "code",
      "source": [
        "def down_sample(df):\n",
        "    copy = df.copy()\n",
        "    zero = Counter(copy.label.values)[0]\n",
        "    un = Counter(copy.label.values)[1]\n",
        "    n = zero - un\n",
        "    copy = copy.drop(copy[copy.label == 0].sample(n=n, random_state=1).index)\n",
        "    return copy.sample(frac=1)"
      ],
      "metadata": {
        "id": "oBy5_5F7Q8eR"
      },
      "execution_count": null,
      "outputs": []
    },
    {
      "cell_type": "code",
      "source": [
        "train_existing_links = graph.run(\"\"\"\n",
        "MATCH (author:Author)-[:CO_AUTHOR_EARLY]->(other:Author)\n",
        "RETURN id(author) AS node1, id(other) AS node2, 1 AS label\n",
        "\"\"\").to_data_frame()\n",
        "\n",
        "train_missing_links = graph.run(\"\"\"\n",
        "MATCH (author:Author)\n",
        "WHERE (author)-[:CO_AUTHOR_EARLY]-()\n",
        "MATCH (author)-[:CO_AUTHOR_EARLY*2..3]-(other)\n",
        "WHERE not((author)-[:CO_AUTHOR_EARLY]-(other))\n",
        "RETURN id(author) AS node1, id(other) AS node2, 0 AS label\n",
        "\"\"\").to_data_frame()\n",
        "train_missing_links = train_missing_links.drop_duplicates()"
      ],
      "metadata": {
        "id": "KCYNSUvnWf8d"
      },
      "execution_count": null,
      "outputs": []
    },
    {
      "cell_type": "code",
      "source": [
        "training_df = train_missing_links.append(train_existing_links, ignore_index=True)\n",
        "training_df['label'] = training_df['label'].astype('category')\n",
        "training_df = down_sample(training_df)"
      ],
      "metadata": {
        "id": "0AQ5Ky1lWiv4"
      },
      "execution_count": null,
      "outputs": []
    },
    {
      "cell_type": "code",
      "source": [
        "training_df.head()"
      ],
      "metadata": {
        "id": "yh02HVgEWqH9"
      },
      "execution_count": null,
      "outputs": []
    },
    {
      "cell_type": "code",
      "source": [
        "test_existing_links = graph.run(\"\"\"\n",
        "MATCH (author:Author)-[:CO_AUTHOR_LATE]->(other:Author)\n",
        "RETURN id(author) AS node1, id(other) AS node2, 1 AS label\n",
        "\"\"\").to_data_frame()\n",
        "\n",
        "test_missing_links = graph.run(\"\"\"\n",
        "MATCH (author:Author)\n",
        "WHERE (author)-[:CO_AUTHOR_LATE]-()\n",
        "MATCH (author)-[:CO_AUTHOR_LATE*2..3]-(other)\n",
        "WHERE not((author)-[:CO_AUTHOR_LATE]-(other))\n",
        "RETURN id(author) AS node1, id(other) AS node2, 0 AS label\n",
        "\"\"\").to_data_frame()\n",
        "test_missing_links = test_missing_links.drop_duplicates()"
      ],
      "metadata": {
        "id": "1ig1oC23WuIe"
      },
      "execution_count": null,
      "outputs": []
    },
    {
      "cell_type": "code",
      "source": [
        "test_df = test_missing_links.append(test_existing_links, ignore_index=True)\n",
        "test_df['label'] = test_df['label'].astype('category')\n",
        "test_df = down_sample(test_df)"
      ],
      "metadata": {
        "id": "FLMjL8f6WxlX"
      },
      "execution_count": null,
      "outputs": []
    },
    {
      "cell_type": "code",
      "source": [
        "test_df.head()"
      ],
      "metadata": {
        "id": "C-K86Fz0W2RI"
      },
      "execution_count": null,
      "outputs": []
    },
    {
      "cell_type": "code",
      "source": [
        "classifier = RandomForestClassifier(n_estimators=30, max_depth=10, random_state=0)"
      ],
      "metadata": {
        "id": "KrxV5fbpW5Y8"
      },
      "execution_count": null,
      "outputs": []
    },
    {
      "cell_type": "code",
      "source": [
        "X = training_df[columns]\n",
        "y = training_df[\"label\"]\n",
        "classifier.fit(X, y)"
      ],
      "metadata": {
        "id": "iHoqP2HGW-CJ"
      },
      "execution_count": null,
      "outputs": []
    },
    {
      "cell_type": "code",
      "source": [
        "def evaluate_model(predictions, actual):\n",
        "    return pd.DataFrame({\n",
        "        \"Measure\": [\"Accuracy\", \"Precision\", \"Recall\"],\n",
        "        \"Score\": [accuracy_score(actual, predictions), \n",
        "                  precision_score(actual, predictions), \n",
        "                  recall_score(actual, predictions)]\n",
        "    })\n",
        "\n",
        "def feature_importance(columns, classifier):        \n",
        "    display(\"Feature Importance\")\n",
        "    df = pd.DataFrame({\n",
        "        \"Feature\": columns,\n",
        "        \"Importance\": classifier.feature_importances_\n",
        "    })\n",
        "    df = df.sort_values(\"Importance\", ascending=False)    \n",
        "    ax = df.plot(kind='bar', x='Feature', y='Importance', legend=None)\n",
        "    ax.xaxis.set_label_text(\"\")\n",
        "    plt.tight_layout()\n",
        "    plt.show()"
      ],
      "metadata": {
        "id": "YYuiZAs5XQv9"
      },
      "execution_count": null,
      "outputs": []
    },
    {
      "cell_type": "code",
      "source": [
        "predictions = classifier.predict(test_df[columns])\n",
        "y_test = test_df[\"label\"]\n",
        "\n",
        "display(evaluate_model(predictions, y_test))\n",
        "feature_importance(columns, classifier)"
      ],
      "metadata": {
        "id": "rfNVNgH9XU7p"
      },
      "execution_count": null,
      "outputs": []
    }
  ],
  "metadata": {
    "kernelspec": {
      "display_name": "Python 3",
      "language": "python",
      "name": "python3"
    },
    "language_info": {
      "codemirror_mode": {
        "name": "ipython",
        "version": 3
      },
      "file_extension": ".py",
      "mimetype": "text/x-python",
      "name": "python",
      "nbconvert_exporter": "python",
      "pygments_lexer": "ipython3",
      "version": "3.8.2"
    },
    "colab": {
      "name": "ML model for link prediction using Cypher.ipynb",
      "provenance": [],
      "collapsed_sections": [],
      "include_colab_link": true
    }
  },
  "nbformat": 4,
  "nbformat_minor": 0
}